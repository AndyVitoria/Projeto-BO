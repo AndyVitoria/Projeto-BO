{
 "cells": [
  {
   "cell_type": "code",
   "execution_count": 1,
   "metadata": {},
   "outputs": [],
   "source": [
    "import pandas as pd\n",
    "\n",
    "bo_df = pd.read_excel('dataframe_4.xlsx')"
   ]
  },
  {
   "cell_type": "code",
   "execution_count": 3,
   "metadata": {},
   "outputs": [],
   "source": [
    "g = bo_df.groupby(['week_number'])"
   ]
  },
  {
   "cell_type": "code",
   "execution_count": 19,
   "metadata": {},
   "outputs": [],
   "source": [
    "bo_dic = bo_df.to_dict()\n",
    "    "
   ]
  },
  {
   "cell_type": "code",
   "execution_count": 22,
   "metadata": {},
   "outputs": [
    {
     "data": {
      "text/plain": [
       "dict_keys(['Unnamed: 0', 'address', 'category', 'id', 'location_category', 'occurence_date', 'occurence_hour', 'register_date', 'register_hour', 'score', 'week_number', 'x', 'xmax', 'xmin', 'y', 'ymax', 'ymin'])"
      ]
     },
     "execution_count": 22,
     "metadata": {},
     "output_type": "execute_result"
    }
   ],
   "source": [
    "bo_dic.keys()"
   ]
  },
  {
   "cell_type": "code",
   "execution_count": 26,
   "metadata": {},
   "outputs": [],
   "source": [
    "test_dict = {}\n",
    "for i in bo_dic['week_number']:\n",
    "    if bo_dic['week_number'][i] > 0 and bo_dic['week_number'][i] < 330:\n",
    "        if bo_dic['week_number'][i] in test_dict.keys():\n",
    "            test_dict[bo_dic['week_number'][i]] += 1\n",
    "        else:\n",
    "            test_dict[bo_dic['week_number'][i]] = 1"
   ]
  },
  {
   "cell_type": "code",
   "execution_count": 28,
   "metadata": {},
   "outputs": [],
   "source": [
    "week_count_lst = [['week', 'count']]\n",
    "\n",
    "for key in sorted(test_dict):\n",
    "    week_count_lst.append([key, test_dict[key]])"
   ]
  },
  {
   "cell_type": "code",
   "execution_count": 32,
   "metadata": {},
   "outputs": [],
   "source": [
    "bo_count = pd.DataFrame(week_count_lst[1:], columns=week_count_lst[0])"
   ]
  },
  {
   "cell_type": "code",
   "execution_count": 41,
   "metadata": {},
   "outputs": [
    {
     "data": {
      "text/plain": [
       "0         Avenida Dante Michelini, Jardim Camburi, Vitór...\n",
       "1                      Jardim Camburi, Vitória - ES, Brazil\n",
       "2             Av. Nossa Sra. da Penha, Vitória - ES, Brazil\n",
       "3         R. Horácio Barbosa Alves - Guriri, São Mateus ...\n",
       "4                    Praia do Morro, Guarapari - ES, Brazil\n",
       "5         R. das Violetas - Praia do Suá, Vitória - ES, ...\n",
       "6         Av. Everson de Abreu Sodré - Muquiçaba, Guarap...\n",
       "7         Av. Dante Michelini - Jardim Camburi, Vitória ...\n",
       "8                         Setiba, Guarapari, Espírito Santo\n",
       "9            Portal de Guarapari, Guarapari, Espírito Santo\n",
       "10        Nova Guarapari, Guarapari - ES, 29206-570, Brazil\n",
       "11                          Guriri, São Mateus - ES, Brazil\n",
       "12                        Muquiçaba, Guarapari - ES, Brazil\n",
       "13                          Guriri, São Mateus - ES, Brazil\n",
       "14        Praça Anchieta, Centro - Centro, São Mateus - ...\n",
       "15        Praça Anchieta, Centro - Centro, São Mateus - ...\n",
       "16        R. Pôrto Alegre - Itapuã, Vila Velha - ES, Brazil\n",
       "17                    Laranjeiras Velha, Serra - ES, Brazil\n",
       "18        R. José Carvalho - Ilha de Santa Maria, Vitóri...\n",
       "19                      Andorinhas, Vitória, Espírito Santo\n",
       "20           Av. A - Bom Sucesso I, São Mateus - ES, Brazil\n",
       "21               Av. Fernando Ferrari, Vitória - ES, Brazil\n",
       "22        R. Dinamarca - Itapemirim, Cariacica - ES, Brazil\n",
       "23        R. Antônio Lino Bandeira - Muquiçaba, Guarapar...\n",
       "24                Av. Leitão da Silva, Vitória - ES, Brazil\n",
       "25                          Guriri, São Mateus - ES, Brazil\n",
       "26                     Av. Rio Branco, Vitória - ES, Brazil\n",
       "27        Rua Antonio Lino Bandeira, Praia do Morro, Gua...\n",
       "28                     Jardim Camburi, Vitória - ES, Brazil\n",
       "29        Av. Expedito García - Campo Grande, Cariacica ...\n",
       "                                ...                        \n",
       "434630                   Itapebussu, Guarapari - ES, Brazil\n",
       "434631    Rua João Franklin Machado, Cachoeiro de Itapem...\n",
       "434632      BR-262 - Jardim América, Cariacica - ES, Brazil\n",
       "434633                  Santo André, Cariacica - ES, Brazil\n",
       "434634    R. Augusto de Mattos, 15 - Centro, Guarapari -...\n",
       "434635    Rua Presidente Kennedy, Bela Vista, Aracruz, E...\n",
       "434636                      Ataíde, Vila Velha - ES, Brazil\n",
       "434637                Santa Maria de Jetibá, Espírito Santo\n",
       "434638                   Monte Pio, Castelo, Espírito Santo\n",
       "434639    R. Domingos Martins - Vila Capixaba, Cariacica...\n",
       "434640        Pôrto de Cariacica, Cariacica, Espírito Santo\n",
       "434641            Colina de Laranjeiras, Serra - ES, Brazil\n",
       "434642                    Dom Bosco, Cariacica - ES, Brazil\n",
       "434643                R. Aleixo Netto, Vitória - ES, Brazil\n",
       "434644    Avenida Cristo Rei, Sooretama, Espírito Santo,...\n",
       "434645                  Santo André, Cariacica - ES, Brazil\n",
       "434646    Rua Alice, Vila Palestina, Cariacica, Espírito...\n",
       "434647    R. José Antônio Silva - Vera Cruz, Cariacica -...\n",
       "434648    R. Moisés Filgueira da Cunha - Centro, Boa Esp...\n",
       "434649               R. Santa Clara, Cariacica - ES, Brazil\n",
       "434650    Av. Honório Fraga - Centro, São Domingos do No...\n",
       "434651    Rua Dom Bosco, Dom Bosco, Cariacica, Espírito ...\n",
       "434652                    Eurico Salles, Serra - ES, Brazil\n",
       "434653    Beco Emídio Costa de Santana, São Cristóvão, V...\n",
       "434654    Avenida Fioravante Cypriano, 15 - Aeroporto, E...\n",
       "434655                 Av. Rio Branco, Vitória - ES, Brazil\n",
       "434656    Rua Antonio Depolli, Cachoeiro de Itapemirim, ...\n",
       "434657                    Av. Maruípe, Vitória - ES, Brazil\n",
       "434658    Rua João Manoel Scarpino, Nova Brasília, Caria...\n",
       "434659                Vila Capixaba, Cariacica - ES, Brazil\n",
       "Name: address, Length: 434660, dtype: object"
      ]
     },
     "execution_count": 41,
     "metadata": {},
     "output_type": "execute_result"
    }
   ],
   "source": [
    "bo_df.address"
   ]
  },
  {
   "cell_type": "code",
   "execution_count": null,
   "metadata": {},
   "outputs": [],
   "source": []
  }
 ],
 "metadata": {
  "kernelspec": {
   "display_name": "Python 3",
   "language": "python",
   "name": "python3"
  },
  "language_info": {
   "codemirror_mode": {
    "name": "ipython",
    "version": 3
   },
   "file_extension": ".py",
   "mimetype": "text/x-python",
   "name": "python",
   "nbconvert_exporter": "python",
   "pygments_lexer": "ipython3",
   "version": "3.6.7"
  }
 },
 "nbformat": 4,
 "nbformat_minor": 2
}
